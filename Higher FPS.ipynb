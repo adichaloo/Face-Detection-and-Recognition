{
 "cells": [
  {
   "cell_type": "code",
   "execution_count": 2,
   "metadata": {},
   "outputs": [],
   "source": [
    "import utils\n",
    "from PIL import Image\n",
    "from facenet_pytorch import MTCNN\n",
    "from matplotlib import pyplot\n",
    "from matplotlib.patches import Rectangle\n",
    "from keras.models import load_model\n",
    "from matplotlib.patches import Circle\n",
    "import cv2\n",
    "import numpy as np\n",
    "from sklearn.preprocessing import Normalizer\n",
    "from scipy.spatial.distance import cosine\n",
    "import os\n",
    "import datetime\n",
    "import xlwt\n",
    "import xlrd\n",
    "from xlwt import Workbook \n",
    "from xlutils.copy import copy\n",
    "import time"
   ]
  },
  {
   "cell_type": "code",
   "execution_count": 3,
   "metadata": {},
   "outputs": [],
   "source": [
    "device='cuda'\n",
    "encoder_model = './model/facenet_keras.h5'"
   ]
  },
  {
   "cell_type": "code",
   "execution_count": 4,
   "metadata": {},
   "outputs": [],
   "source": [
    "detector=MTCNN(keep_all=True, device=device)\n",
    "face_encoder = load_model(encoder_model,compile=False)\n",
    "people_dir = './people'\n",
    "encoding_dict = dict()"
   ]
  },
  {
   "cell_type": "code",
   "execution_count": 5,
   "metadata": {},
   "outputs": [
    {
     "name": "stdout",
     "output_type": "stream",
     "text": [
      "['person', 'bicycle', 'car', 'motorcycle', 'airplane', 'bus', 'train', 'truck', 'boat', 'traffic light', 'fire hydrant', 'street sign', 'stop sign', 'parking meter', 'bench', 'bird', 'cat', 'dog', 'horse', 'sheep', 'cow', 'elephant', 'bear', 'zebra', 'giraffe', 'hat', 'backpack', 'umbrella', 'shoe', 'eye glasses', 'handbag', 'tie', 'suitcase', 'frisbee', 'skis', 'snowboard', 'sports ball', 'kite', 'baseball bat', 'baseball glove', 'skateboard', 'surfboard', 'tennis racket', 'bottle', 'plate', 'wine glass', 'cup', 'fork', 'knife', 'spoon', 'bowl', 'banana', 'apple', 'sandwich', 'orange', 'broccoli', 'carrot', 'hot dog', 'pizza', 'donut', 'cake', 'chair', 'couch', 'potted plant', 'bed', 'mirror', 'dining table', 'window', 'desk', 'toilet', 'door', 'tv', 'laptop', 'mouse', 'remote', 'keyboard', 'cell phone', 'microwave', 'oven', 'toaster', 'sink', 'refrigerator', 'blender', 'book', 'clock', 'vase', 'scissors', 'teddy bear', 'hair drier', 'toothbrush', 'hair brush']\n"
     ]
    }
   ],
   "source": [
    "classNames = []\n",
    "with open('coco.names','r') as f:\n",
    "    classNames = f.read().splitlines()\n",
    "print(classNames)"
   ]
  },
  {
   "cell_type": "code",
   "execution_count": 6,
   "metadata": {},
   "outputs": [
    {
     "data": {
      "text/plain": [
       "<dnn_Model 0x7fc55ede6270>"
      ]
     },
     "execution_count": 6,
     "metadata": {},
     "output_type": "execute_result"
    }
   ],
   "source": [
    "weightsPath = \"frozen_inference_graph.pb\"\n",
    "configPath = \"ssd_mobilenet_v3_large_coco_2020_01_14.pbtxt\"\n",
    "net = cv2.dnn_DetectionModel(weightsPath,configPath)\n",
    "net.setInputSize(320,320)\n",
    "net.setInputScale(1.0/ 127.5)\n",
    "net.setInputMean((127.5, 127.5, 127.5))\n",
    "net.setInputSwapRB(True)"
   ]
  },
  {
   "cell_type": "code",
   "execution_count": 7,
   "metadata": {},
   "outputs": [],
   "source": [
    "def get_encode(face_encoder, face, size):\n",
    "    face = normalize(face)\n",
    "    face = cv2.resize(face, size)\n",
    "    encode = face_encoder.predict(np.expand_dims(face, axis=0))[0]\n",
    "    return encode"
   ]
  },
  {
   "cell_type": "code",
   "execution_count": 8,
   "metadata": {},
   "outputs": [],
   "source": [
    "def get_face(img, box):\n",
    "    box=[int(i) for i in box]\n",
    "    x1, y1, x2, y2 = box\n",
    "    face = img[y1:y2, x1:x2]\n",
    "    return face, (x1, y1), (x2, y2)"
   ]
  },
  {
   "cell_type": "code",
   "execution_count": 9,
   "metadata": {},
   "outputs": [],
   "source": [
    "def normalize(img):\n",
    "    mean, std = img.mean(), img.std()\n",
    "    return (img - mean) / std"
   ]
  },
  {
   "cell_type": "code",
   "execution_count": 10,
   "metadata": {},
   "outputs": [],
   "source": [
    "l2_normalizer = Normalizer('l2')"
   ]
  },
  {
   "cell_type": "code",
   "execution_count": 11,
   "metadata": {},
   "outputs": [],
   "source": [
    "def export(a):\n",
    "    ct = datetime.datetime.now()\n",
    "    \n",
    "    ws = xlrd.open_workbook('names_list.xls',formatting_info=True)\n",
    "    sheet = ws.sheet_by_index(0)\n",
    "    wb=copy(ws)\n",
    "    names_sheet=wb.get_sheet(0)\n",
    "    row_s=sheet.nrows\n",
    "    col_s=sheet.ncols\n",
    "    \n",
    "    names_sheet.write(0,col_s,str(ct.year)+\"_\"+str(ct.month)+\"_\"+str(ct.day)+\"_\"+str(ct.hour))\n",
    "    \n",
    "    for i in range(1,row_s):   \n",
    "        \n",
    "        if sheet.cell_value(i,0) in a:\n",
    "            names_sheet.write(i, col_s,\"P\")\n",
    "                \n",
    "        else:\n",
    "                \n",
    "            names_sheet.write(i, col_s,\"A\")\n",
    "    wb.save(\"names_list.xls\") "
   ]
  },
  {
   "cell_type": "code",
   "execution_count": 12,
   "metadata": {},
   "outputs": [],
   "source": [
    "def mark_attendance(a):\n",
    "    \n",
    "\n",
    "    ct = datetime.datetime.now()\n",
    "    \n",
    "    \n",
    "\n",
    "\n",
    "    workbook = xlwt.Workbook()  \n",
    "\n",
    "    sheet = workbook.add_sheet(str(ct.year)+\"_\"+str(ct.month)+\"_\"+str(ct.day)) \n",
    "    sheet.write(0,0,\"Name\")\n",
    "\n",
    "\n",
    "    row = 1\n",
    "    col = 0\n",
    "    if len(a)>0:\n",
    "        for person_name in os.listdir(people_dir):\n",
    "            print(person_name)\n",
    "            print(a)\n",
    "\n",
    "            for x in range(0,len(a)):\n",
    "                if str(person_name) in a:\n",
    "                    sheet.write(row, col,     str(a[x]))\n",
    "                    sheet.write(row,col+1,\"P\")\n",
    "                    \n",
    "                else:\n",
    "                    sheet.write(row, col,     str(a[x]),)\n",
    "                    sheet.write(row,col+1,\"A\")\n",
    "                row+=1\n",
    "         \n",
    "            \n",
    "  \n",
    "        workbook.save(\"sample_class_1.xls\") \n",
    "    else:\n",
    "        sheet.write(1,0,\"No one is present\")\n",
    "        workbook.save(\"sample_class_1.xls\") "
   ]
  },
  {
   "cell_type": "code",
   "execution_count": 13,
   "metadata": {},
   "outputs": [],
   "source": [
    "dimensions=(160,160)"
   ]
  },
  {
   "cell_type": "code",
   "execution_count": 14,
   "metadata": {
    "scrolled": true
   },
   "outputs": [
    {
     "name": "stderr",
     "output_type": "stream",
     "text": [
      "/home/aditya/.local/lib/python3.7/site-packages/ipykernel_launcher.py:13: DeprecationWarning: elementwise comparison failed; this will raise an error in the future.\n",
      "  del sys.path[0]\n",
      "/home/aditya/.local/lib/python3.7/site-packages/ipykernel_launcher.py:2: RuntimeWarning: Mean of empty slice.\n",
      "  \n",
      "/home/aditya/anaconda3/lib/python3.7/site-packages/numpy/core/_methods.py:161: RuntimeWarning: invalid value encountered in double_scalars\n",
      "  ret = ret.dtype.type(ret / rcount)\n",
      "/home/aditya/anaconda3/lib/python3.7/site-packages/numpy/core/_methods.py:217: RuntimeWarning: Degrees of freedom <= 0 for slice\n",
      "  keepdims=keepdims)\n",
      "/home/aditya/anaconda3/lib/python3.7/site-packages/numpy/core/_methods.py:186: RuntimeWarning: invalid value encountered in true_divide\n",
      "  arrmean, rcount, out=arrmean, casting='unsafe', subok=False)\n",
      "/home/aditya/anaconda3/lib/python3.7/site-packages/numpy/core/_methods.py:209: RuntimeWarning: invalid value encountered in double_scalars\n",
      "  ret = ret.dtype.type(ret / rcount)\n"
     ]
    },
    {
     "name": "stdout",
     "output_type": "stream",
     "text": [
      "OpenCV(4.4.0) /tmp/pip-req-build-njn2fp78/opencv/modules/imgproc/src/resize.cpp:3929: error: (-215:Assertion failed) !ssize.empty() in function 'resize'\n",
      "\n",
      "Aditya 5.jpeg\n",
      "'NoneType' object is not subscriptable\n",
      "Aditya 3.jpeg\n"
     ]
    },
    {
     "name": "stderr",
     "output_type": "stream",
     "text": [
      "/home/aditya/.local/lib/python3.7/site-packages/ipykernel_launcher.py:13: DeprecationWarning: elementwise comparison failed; this will raise an error in the future.\n",
      "  del sys.path[0]\n",
      "/home/aditya/.local/lib/python3.7/site-packages/ipykernel_launcher.py:13: DeprecationWarning: elementwise comparison failed; this will raise an error in the future.\n",
      "  del sys.path[0]\n"
     ]
    }
   ],
   "source": [
    "for person_name in os.listdir(people_dir):\n",
    "    person_dir = os.path.join(people_dir, person_name)\n",
    "    encodes = []\n",
    "    for img_name in os.listdir(person_dir):\n",
    "        img_path = os.path.join(person_dir, img_name)\n",
    "        img = cv2.imread(img_path)\n",
    "\n",
    "        bounding_boxes, conf= detector.detect(img, landmarks=False)\n",
    "#         results, probs= detector.detect(img)\n",
    "        \n",
    "        \n",
    "        \n",
    "        if bounding_boxes !=[]:\n",
    "            try:\n",
    "                face, _, _ = get_face(img, bounding_boxes[0])\n",
    "                face = normalize(face)\n",
    "                face = cv2.resize(face,dimensions)\n",
    "                encode = face_encoder.predict(np.expand_dims(face, axis=0))[0]\n",
    "                encodes.append(encode)\n",
    "            except Exception as e: \n",
    "                print(str(e))\n",
    "                print(person_name+\" \"+img_name)\n",
    "                \n",
    "    if encodes:\n",
    "        encode = np.sum(encodes, axis=0)\n",
    "        encode = l2_normalizer.transform(np.expand_dims(encode, axis=0))[0]\n",
    "        encoding_dict[person_name] = encode  "
   ]
  },
  {
   "cell_type": "code",
   "execution_count": 15,
   "metadata": {},
   "outputs": [
    {
     "data": {
      "text/plain": [
       "{'Aditya': array([-0.03904701, -0.10442009,  0.14776303,  0.2500403 ,  0.04244868,\n",
       "         0.11182255, -0.00874341, -0.11569592,  0.07027978,  0.08836868,\n",
       "        -0.17368801, -0.02335205,  0.01081557, -0.04059359, -0.11617737,\n",
       "        -0.07648676,  0.08868869,  0.06259269,  0.03583365, -0.05488308,\n",
       "        -0.08766231,  0.01579584,  0.06335662, -0.04887755, -0.02077567,\n",
       "        -0.03340274, -0.00634047, -0.06535081, -0.05890035, -0.03134989,\n",
       "         0.09241497, -0.10865742, -0.04815555, -0.09910399,  0.07510326,\n",
       "        -0.07544328,  0.00995452,  0.12201301,  0.10748708,  0.00824658,\n",
       "         0.03075092,  0.06478517,  0.11489124,  0.00865825,  0.13696599,\n",
       "         0.04641121, -0.07612006,  0.14606093,  0.06626271,  0.11691636,\n",
       "         0.06513786, -0.04402125,  0.01429342, -0.0052444 , -0.00871318,\n",
       "         0.04938497,  0.09431054, -0.10523877, -0.01095662,  0.0079315 ,\n",
       "         0.02879027, -0.12766616,  0.03041083,  0.09087356, -0.02884291,\n",
       "        -0.01036598, -0.03691437,  0.02655809, -0.09587171,  0.02321911,\n",
       "        -0.11918185,  0.00565776, -0.10054807,  0.02326774,  0.07132094,\n",
       "        -0.07416639, -0.08727089,  0.07629734, -0.10925411,  0.04192941,\n",
       "         0.0021194 , -0.03142903,  0.08275841,  0.06539309, -0.09548225,\n",
       "        -0.07594856,  0.17129247, -0.05743246, -0.33815232, -0.06395951,\n",
       "        -0.068789  ,  0.05334926,  0.0036102 , -0.00806487,  0.01982582,\n",
       "        -0.13091403, -0.03562315,  0.06339074,  0.01549367, -0.01332599,\n",
       "        -0.07340893,  0.04236048, -0.07478084,  0.0053401 , -0.04782555,\n",
       "        -0.00908222, -0.2035212 , -0.05885334, -0.10510565, -0.21498677,\n",
       "         0.04943626, -0.02832269, -0.01197719,  0.08122082, -0.10396596,\n",
       "         0.10264859,  0.03445981,  0.03633267, -0.14746343,  0.07953345,\n",
       "         0.00316821, -0.27051845,  0.06883117,  0.03106893, -0.07897353,\n",
       "        -0.05469381, -0.0412029 ,  0.08024427], dtype=float32),\n",
       " 'Mom': array([ 0.11588674,  0.03831593,  0.14849699, -0.16316006, -0.05343095,\n",
       "         0.0687835 , -0.03168339,  0.07907901, -0.06431297, -0.11215223,\n",
       "         0.07573272,  0.08329172,  0.13056949,  0.15136376,  0.03965808,\n",
       "         0.09876863, -0.1271942 , -0.00607086, -0.02675861,  0.08672342,\n",
       "        -0.1693609 ,  0.01764406,  0.10924663, -0.01556399,  0.11114311,\n",
       "        -0.13573912, -0.10838601,  0.09748743, -0.06705933,  0.02480741,\n",
       "         0.01090536, -0.15227222, -0.02952468,  0.12303917, -0.10736794,\n",
       "        -0.00890762,  0.04077889,  0.00278136,  0.00962058,  0.09107178,\n",
       "         0.01288796,  0.08606341,  0.03570626, -0.07452628, -0.01886942,\n",
       "        -0.17439549, -0.16630681,  0.09175224,  0.1425585 ,  0.05131574,\n",
       "        -0.02311662,  0.00551191,  0.06845319, -0.015853  , -0.10615347,\n",
       "        -0.04518418,  0.1352215 ,  0.02393661, -0.07088444,  0.0795493 ,\n",
       "         0.11893085,  0.12267179,  0.06802561,  0.28618652,  0.01306153,\n",
       "        -0.02130691,  0.00198779, -0.07339353,  0.00559105,  0.1203027 ,\n",
       "         0.00287981,  0.13002655,  0.00963882,  0.1020778 ,  0.08200542,\n",
       "        -0.09474367, -0.0674947 ,  0.06751669,  0.03466753,  0.08437382,\n",
       "        -0.05043887,  0.04549712,  0.04563211,  0.06156167,  0.15209602,\n",
       "        -0.06187924,  0.07691972, -0.06707176, -0.13520929,  0.00122823,\n",
       "         0.04481405, -0.03653273, -0.01243561,  0.01155533,  0.04052923,\n",
       "         0.08475157, -0.10318159, -0.00158834, -0.03470708, -0.10613696,\n",
       "         0.00917796, -0.01071118, -0.03621079,  0.05022741, -0.00905498,\n",
       "         0.1010701 , -0.15568791, -0.07147585, -0.12232302, -0.06422685,\n",
       "         0.07633537,  0.06192636,  0.01264469,  0.01618526,  0.10065669,\n",
       "         0.10416816,  0.09311502, -0.04224762, -0.06962056, -0.01439964,\n",
       "         0.12493738, -0.08654718,  0.05012577, -0.11319179, -0.06085477,\n",
       "        -0.18974492, -0.12673116, -0.0433177 ], dtype=float32),\n",
       " 'pooya': array([-0.01115957,  0.01957813,  0.06582309,  0.08792102,  0.06961116,\n",
       "         0.05396115,  0.03040818, -0.09913344,  0.16076611,  0.0209461 ,\n",
       "        -0.08854085, -0.00538214, -0.0267706 , -0.02709578,  0.00769213,\n",
       "         0.05954788,  0.08853461,  0.13983184, -0.03494358, -0.07215447,\n",
       "        -0.03878851, -0.05033358,  0.10982327,  0.03035436, -0.13917172,\n",
       "         0.02691432, -0.06686965, -0.05807875, -0.1639745 , -0.03265884,\n",
       "        -0.00752213, -0.08166387, -0.09901302,  0.05807177,  0.14560471,\n",
       "         0.08371412, -0.0410268 , -0.02986131,  0.17907773,  0.06494781,\n",
       "         0.10012159, -0.00847064,  0.017328  , -0.10852741,  0.05559229,\n",
       "         0.04432122,  0.04432352, -0.00537978, -0.14519624,  0.16774446,\n",
       "         0.00516343, -0.06287659, -0.05690775,  0.02849133,  0.13279799,\n",
       "        -0.03680457,  0.07778023, -0.09839408, -0.11273052, -0.12175252,\n",
       "         0.05100125, -0.20549607,  0.11358736, -0.04740179, -0.02815183,\n",
       "         0.0233595 , -0.05119781,  0.01377017,  0.01600552, -0.0812856 ,\n",
       "        -0.01508689,  0.03221622,  0.10337711,  0.00550392,  0.08729564,\n",
       "        -0.0035895 , -0.14304346, -0.04019271,  0.03603992, -0.08054484,\n",
       "        -0.03620679, -0.03952231,  0.06106499, -0.00181184, -0.01669335,\n",
       "         0.05046985,  0.1433386 ,  0.08431615, -0.00395547,  0.21625298,\n",
       "        -0.09698801,  0.10310248,  0.08875336,  0.0991355 , -0.00959194,\n",
       "        -0.00928061, -0.01838064,  0.11834224, -0.17394695,  0.06079773,\n",
       "         0.02959585,  0.13637346, -0.16243537, -0.0890832 ,  0.08064639,\n",
       "        -0.11562298, -0.18384461,  0.10466162, -0.10451418, -0.06970697,\n",
       "         0.05974833,  0.1963734 ,  0.07242832, -0.05718229, -0.10833704,\n",
       "         0.02817588, -0.02898276, -0.03340532,  0.04690403, -0.10595143,\n",
       "        -0.19578096, -0.10430513,  0.11373539, -0.11469699, -0.06753226,\n",
       "        -0.02267181, -0.0418452 , -0.04286473], dtype=float32)}"
      ]
     },
     "execution_count": 15,
     "metadata": {},
     "output_type": "execute_result"
    }
   ],
   "source": [
    "encoding_dict"
   ]
  },
  {
   "cell_type": "code",
   "execution_count": 16,
   "metadata": {},
   "outputs": [],
   "source": [
    "recognition_t=0.6\n",
    "confidence_t=0.99\n",
    "thres = 0.5 # Threshold to detect object\n",
    "nms_threshold = 0.2 #(0.1 to 1) 1 means no suppress , 0.1 means high suppress\n",
    "font = cv2.FONT_HERSHEY_PLAIN\n",
    "#font = cv2.FONT_HERSHEY_COMPLEX\n",
    "Colors = np.random.uniform(0, 255, size=(len(classNames), 3))"
   ]
  },
  {
   "cell_type": "code",
   "execution_count": 17,
   "metadata": {},
   "outputs": [],
   "source": [
    "video =cv2.VideoCapture(0)\n",
    "present_candidates=[]\n",
    "\n",
    "fps_start_time = datetime.datetime.now()\n",
    "fps = 0\n",
    "total_frames = 0\n",
    "\n",
    "while True:\n",
    "    check,frame=video.read()\n",
    "    total_frames = total_frames + 1\n",
    "    \n",
    "    classIds, confs, bbox = net.detect(frame,confThreshold=thres)\n",
    "    bbox = list(bbox)\n",
    "    confs = list(np.array(confs).reshape(1,-1)[0])\n",
    "    confs = list(map(float,confs))\n",
    "    \n",
    "    indices = cv2.dnn.NMSBoxes(bbox,confs,thres,nms_threshold)\n",
    "    \n",
    "    if len(classIds) != 0:\n",
    "        \n",
    "        for i in indices:\n",
    "            i = i[0]\n",
    "            box = bbox[i]\n",
    "            confidence = str(round(confs[i],2))\n",
    "            color = Colors[classIds[i][0]-1]\n",
    "            x,y,w,h = box[0],box[1],box[2],box[3]\n",
    "            cv2.rectangle(frame, (x,y), (x+w,y+h), color, thickness=2)\n",
    "            cv2.putText(frame, classNames[classIds[i][0]-1]+\" \"+confidence,(x+10,y+20),\n",
    "                        font,1,color,2)\n",
    "\n",
    "    bounding_boxes, conf, landmarks = detector.detect(frame, landmarks=True)\n",
    "    \n",
    "    if bounding_boxes is not None: \n",
    "        for i in range(len(bounding_boxes)):\n",
    "            face, pt_1, pt_2 = get_face(frame,bounding_boxes[i])\n",
    "            cv2.rectangle(frame, pt_1 , pt_2, (0, 255, 0), 2)\n",
    "            try:\n",
    "                encode = get_encode(face_encoder, face,(160,160))\n",
    "                encode = l2_normalizer.transform(encode.reshape(1, -1))[0]\n",
    "                name = 'unknown'\n",
    "\n",
    "\n",
    "                distance = float(\"inf\")\n",
    "\n",
    "\n",
    "                for (db_name, db_enc) in encoding_dict.items():\n",
    "\n",
    "                    dist = cosine(db_enc, encode)\n",
    "\n",
    "                    if dist < recognition_t and dist < distance:\n",
    "\n",
    "                        name = db_name\n",
    "                        distance = dist\n",
    "                        if name not in present_candidates:\n",
    "                            present_candidates.append(name)\n",
    "\n",
    "\n",
    "                if name == 'unknown':\n",
    "                    cv2.rectangle(frame, pt_1, pt_2, (0, 0, 255), 2)\n",
    "                    cv2.putText(frame,name, pt_1, cv2.FONT_HERSHEY_SIMPLEX, 1, (0, 0, 255), 1)\n",
    "\n",
    "                else:\n",
    "\n",
    "                    cv2.rectangle(frame, pt_1 , pt_2, (0, 255, 0), 2)\n",
    "                    cv2.putText(frame,name + f'__{distance:.2f}', (pt_1[0], pt_1[1] - 5), cv2.FONT_HERSHEY_SIMPLEX, 1,\n",
    "                            (0, 200, 200), 2)\n",
    "                    \n",
    "            except Exception as e: \n",
    "                print(str(e))\n",
    "\n",
    "            \n",
    "            \n",
    "    fps_end_time = datetime.datetime.now()\n",
    "    time_diff = fps_end_time - fps_start_time\n",
    "    if time_diff.seconds == 0:\n",
    "        fps = 0.0\n",
    "    else:\n",
    "        fps = (total_frames / time_diff.seconds)\n",
    "\n",
    "    fps_text = \"FPS: {:.2f}\".format(fps)\n",
    "\n",
    "    cv2.putText(frame, fps_text, (5, 30), cv2.FONT_HERSHEY_COMPLEX_SMALL, 1, (0, 0, 255), 1)\n",
    "\n",
    "    cv2.imshow('frame',frame)  \n",
    "    if cv2.waitKey(5) & 0xFF == ord('q'):\n",
    "          break\n",
    "            \n",
    "            \n",
    "            \n",
    "video.release()\n",
    "cv2.destroyAllWindows()"
   ]
  },
  {
   "cell_type": "code",
   "execution_count": null,
   "metadata": {},
   "outputs": [],
   "source": []
  }
 ],
 "metadata": {
  "kernelspec": {
   "display_name": "Python 3",
   "language": "python",
   "name": "python3"
  },
  "language_info": {
   "codemirror_mode": {
    "name": "ipython",
    "version": 3
   },
   "file_extension": ".py",
   "mimetype": "text/x-python",
   "name": "python",
   "nbconvert_exporter": "python",
   "pygments_lexer": "ipython3",
   "version": "3.7.4"
  }
 },
 "nbformat": 4,
 "nbformat_minor": 2
}
